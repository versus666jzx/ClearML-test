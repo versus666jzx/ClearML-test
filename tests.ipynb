{
 "cells": [
  {
   "cell_type": "code",
   "id": "initial_id",
   "metadata": {
    "collapsed": true,
    "ExecuteTime": {
     "end_time": "2025-01-17T11:47:50.516565Z",
     "start_time": "2025-01-17T11:47:49.873321Z"
    }
   },
   "source": "import clearml",
   "outputs": [],
   "execution_count": 1
  },
  {
   "metadata": {
    "ExecuteTime": {
     "end_time": "2025-01-17T11:49:44.928752Z",
     "start_time": "2025-01-17T11:49:44.923753Z"
    }
   },
   "cell_type": "code",
   "source": [
    "%env CLEARML_WEB_HOST=http://65.109.87.145:8085/\n",
    "%env CLEARML_API_HOST=http://65.109.87.145:8009\n",
    "%env # test\n",
    "%env CLEARML_API_ACCESS_KEY=1OZY4PBASNED7PMFGWXH07WEKUHCG5\n",
    "%env CLEARML_API_SECRET_KEY=ByEyT6DEF45gDvzMwWkavoTL6NI8sqVWyTcOdbXAPpodi8RUYDlQBEuZdAZRtXJ0WaM"
   ],
   "id": "f922488392a5c89d",
   "outputs": [
    {
     "name": "stdout",
     "output_type": "stream",
     "text": [
      "env: CLEARML_WEB_HOST=http://65.109.87.145:8085/\n",
      "env: CLEARML_API_HOST=http://65.109.87.145:8009\n",
      "env: #=test\n",
      "env: CLEARML_API_ACCESS_KEY=1OZY4PBASNED7PMFGWXH07WEKUHCG5\n",
      "env: CLEARML_API_SECRET_KEY=ByEyT6DEF45gDvzMwWkavoTL6NI8sqVWyTcOdbXAPpodi8RUYDlQBEuZdAZRtXJ0WaM\n"
     ]
    }
   ],
   "execution_count": 4
  },
  {
   "metadata": {
    "ExecuteTime": {
     "end_time": "2025-01-17T13:08:25.037294Z",
     "start_time": "2025-01-17T13:08:24.529256Z"
    }
   },
   "cell_type": "code",
   "source": [
    "tasks = clearml.Task.get_tasks(\n",
    "    project_name=\"examples\",\n",
    "    task_name=\"Pipeline step 3 train model\",\n",
    "    task_filter={\n",
    "            \"_allow_extra_fields_\": True,\n",
    "            \"search_hidden\": True\n",
    "        },\n",
    ")"
   ],
   "id": "8480a249f1725a1f",
   "outputs": [],
   "execution_count": 28
  },
  {
   "metadata": {
    "ExecuteTime": {
     "end_time": "2025-01-17T13:08:25.703803Z",
     "start_time": "2025-01-17T13:08:25.701090Z"
    }
   },
   "cell_type": "code",
   "source": [
    "for t in tasks:\n",
    "    print(t.id), print(t.get_tags())"
   ],
   "id": "74961e8e3aab923a",
   "outputs": [
    {
     "name": "stdout",
     "output_type": "stream",
     "text": [
      "0ab4f9544c6f4e2796b8dd89c8172d9d\n",
      "[]\n"
     ]
    }
   ],
   "execution_count": 29
  }
 ],
 "metadata": {
  "kernelspec": {
   "display_name": "Python 3",
   "language": "python",
   "name": "python3"
  },
  "language_info": {
   "codemirror_mode": {
    "name": "ipython",
    "version": 2
   },
   "file_extension": ".py",
   "mimetype": "text/x-python",
   "name": "python",
   "nbconvert_exporter": "python",
   "pygments_lexer": "ipython2",
   "version": "2.7.6"
  }
 },
 "nbformat": 4,
 "nbformat_minor": 5
}
